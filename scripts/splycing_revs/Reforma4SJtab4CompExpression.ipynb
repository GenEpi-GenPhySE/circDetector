{
 "cells": [
  {
   "cell_type": "code",
   "execution_count": 1,
   "metadata": {},
   "outputs": [],
   "source": [
    "import os\n",
    "import pandas as pd\n",
    "from collections import defaultdict"
   ]
  },
  {
   "cell_type": "code",
   "execution_count": 2,
   "metadata": {},
   "outputs": [],
   "source": [
    "LOCALDIR = \"/home/tfaraut/mnt/genologin/dynawork/CircRNA/\"\n",
    "\n",
    "def read_sj_tab_out(inputfile, sample, sample_unit, read, min_reads=10):\n",
    "    data = []\n",
    "    with open(inputfile) as fin:\n",
    "        for line in fin:\n",
    "            fields = line.rstrip().split()\n",
    "            if int(fields[6]) >  min_reads:\n",
    "                key = \"%s:%s-%s:%s\" % (fields[0], fields[1], fields[2], fields[3])\n",
    "                data.append([ key, sample_unit, read, fields[6]])\n",
    "    df = pd.DataFrame(data, columns=['junction', 'sample_unit', 'read', 'nb'])\n",
    "    df['nb'] = pd.to_numeric(df['nb'])\n",
    "    return df\n",
    "\n",
    "def strand_str(strand):\n",
    "    return \"+\" if strand == \"1\" else \"-\"\n",
    "\n",
    "\n",
    "# The junction here keep the information of acceptor and donor site\n",
    "# according to STAR documentation \n",
    "def junctionkeys(fields):\n",
    "    strand = strand_str(fields[3])\n",
    "    if strand == \"+\": \n",
    "        key_donor = \"%s:%s:%s:d\" % (fields[0], fields[1], strand)\n",
    "        key_acceptor = \"%s:%s:%s:a\" % (fields[0], fields[2], strand)\n",
    "    else:\n",
    "        key_donor = \"%s:%s:%s:d\" % (fields[0], fields[2], strand)\n",
    "        key_acceptor = \"%s:%s:%s:a\" % (fields[0], fields[1], strand)\n",
    "    return key_donor, key_acceptor\n",
    "\n",
    "\n",
    "def read_sj_tab_out_singlejunction(inputfile, sample, sample_unit, read, min_reads=10):\n",
    "    data = []\n",
    "    with open(inputfile) as fin:\n",
    "        for line in fin:\n",
    "            fields = line.rstrip().split()\n",
    "            if int(fields[6]) >  min_reads:\n",
    "                key_donor, key_acceptor = junctionkeys(fields)\n",
    "                data.append([ key_donor, sample_unit, read, fields[6]])\n",
    "                data.append([ key_acceptor, sample_unit, read, fields[6]])\n",
    "    df = pd.DataFrame(data, columns=['junction', 'sample_unit', 'read', 'nb'])\n",
    "    df['nb'] = pd.to_numeric(df['nb'])\n",
    "    return df\n",
    "\n",
    "def get_sj_reads(sample, sample_unit, mapdir):\n",
    "    lmapdir = mapdir.replace(\"/work2/genphyse/dynagen/tfaraut/CircRNA/\", LOCALDIR)\n",
    "    dfs = []\n",
    "    for read in ['R1', 'R2']:\n",
    "        sj_file = os.path.join(lmapdir, \"se\", read, \"SJ.out.tab\")\n",
    "        dfs.append(read_sj_tab_out(sj_file, sample, sample_unit, read))   \n",
    "    df = pd.concat(dfs)\n",
    "    df_group = df.groupby(['junction']).aggregate({'nb': 'sum', 'sample_unit': 'first'})\n",
    "    return df_group\n",
    "\n",
    "def get_sj_reads_singlejuntion(sample, sample_unit, mapdir):\n",
    "    lmapdir = mapdir.replace(\"/work2/genphyse/dynagen/tfaraut/CircRNA/\", LOCALDIR)\n",
    "    dfs = []\n",
    "    for read in ['R1', 'R2']:\n",
    "        sj_file = os.path.join(lmapdir, \"se\", read, \"SJ.out.tab\")\n",
    "        dfs.append(read_sj_tab_out_singlejunction(sj_file, sample, sample_unit, read))   \n",
    "    df = pd.concat(dfs)\n",
    "    df_group = df.groupby(['junction']).aggregate({'nb': 'sum', 'sample_unit': 'first'})\n",
    "    return df_group"
   ]
  },
  {
   "cell_type": "code",
   "execution_count": 3,
   "metadata": {
    "scrolled": false
   },
   "outputs": [
    {
     "data": {
      "text/html": [
       "<div>\n",
       "<style scoped>\n",
       "    .dataframe tbody tr th:only-of-type {\n",
       "        vertical-align: middle;\n",
       "    }\n",
       "\n",
       "    .dataframe tbody tr th {\n",
       "        vertical-align: top;\n",
       "    }\n",
       "\n",
       "    .dataframe thead th {\n",
       "        text-align: right;\n",
       "    }\n",
       "</style>\n",
       "<table border=\"1\" class=\"dataframe\">\n",
       "  <thead>\n",
       "    <tr style=\"text-align: right;\">\n",
       "      <th></th>\n",
       "      <th>sample</th>\n",
       "      <th>species</th>\n",
       "      <th>mapdir</th>\n",
       "    </tr>\n",
       "    <tr>\n",
       "      <th>sample_unit</th>\n",
       "      <th></th>\n",
       "      <th></th>\n",
       "      <th></th>\n",
       "    </tr>\n",
       "  </thead>\n",
       "  <tbody>\n",
       "    <tr>\n",
       "      <th>SRR7175531</th>\n",
       "      <td>cow-testis-neonat1</td>\n",
       "      <td>cow</td>\n",
       "      <td>/work2/genphyse/dynagen/tfaraut/CircRNA/mappin...</td>\n",
       "    </tr>\n",
       "    <tr>\n",
       "      <th>SRR7175526</th>\n",
       "      <td>cow-testis-neonat2</td>\n",
       "      <td>cow</td>\n",
       "      <td>/work2/genphyse/dynagen/tfaraut/CircRNA/mappin...</td>\n",
       "    </tr>\n",
       "    <tr>\n",
       "      <th>SRR7175527</th>\n",
       "      <td>cow-testis-neonat3</td>\n",
       "      <td>cow</td>\n",
       "      <td>/work2/genphyse/dynagen/tfaraut/CircRNA/mappin...</td>\n",
       "    </tr>\n",
       "  </tbody>\n",
       "</table>\n",
       "</div>"
      ],
      "text/plain": [
       "                         sample species  \\\n",
       "sample_unit                               \n",
       "SRR7175531   cow-testis-neonat1     cow   \n",
       "SRR7175526   cow-testis-neonat2     cow   \n",
       "SRR7175527   cow-testis-neonat3     cow   \n",
       "\n",
       "                                                        mapdir  \n",
       "sample_unit                                                     \n",
       "SRR7175531   /work2/genphyse/dynagen/tfaraut/CircRNA/mappin...  \n",
       "SRR7175526   /work2/genphyse/dynagen/tfaraut/CircRNA/mappin...  \n",
       "SRR7175527   /work2/genphyse/dynagen/tfaraut/CircRNA/mappin...  "
      ]
     },
     "execution_count": 3,
     "metadata": {},
     "output_type": "execute_result"
    }
   ],
   "source": [
    "medata_file = \"samples_cow_testis_neonat.tsv\"\n",
    "metadata = pd.read_csv(medata_file, sep=\"\\t\").set_index('sample_unit')\n",
    "metadata.head()"
   ]
  },
  {
   "cell_type": "code",
   "execution_count": 4,
   "metadata": {},
   "outputs": [
    {
     "name": "stdout",
     "output_type": "stream",
     "text": [
      "Reading cow-testis-neonat1 SRR7175531 \n",
      "Reading cow-testis-neonat2 SRR7175526 \n",
      "Reading cow-testis-neonat3 SRR7175527 \n"
     ]
    }
   ],
   "source": [
    "df = defaultdict(list)\n",
    "for index, row in metadata.iterrows():\n",
    "    sample = row['sample']\n",
    "    print(\"Reading %s %s \" % (sample, index))\n",
    "    df[sample].append(get_sj_reads_singlejuntion(sample, index, row['mapdir']))"
   ]
  },
  {
   "cell_type": "code",
   "execution_count": 5,
   "metadata": {},
   "outputs": [],
   "source": [
    "df_samples = []\n",
    "for sample in df:\n",
    "    df_new = pd.concat(df[sample]).groupby(level=0).aggregate({'nb': 'sum'})\n",
    "    df_new.columns = [sample]\n",
    "    df_samples.append(df_new)"
   ]
  },
  {
   "cell_type": "code",
   "execution_count": 6,
   "metadata": {},
   "outputs": [],
   "source": [
    "df_full = df_samples[0].join(df_samples[1:]).fillna(0)\n",
    "df_full = df_full.rename(columns={col: col+\"-linear\" for col in df_full.columns})\n",
    "df_full = df_full[df_full.min(axis=1)>10]"
   ]
  },
  {
   "cell_type": "code",
   "execution_count": 7,
   "metadata": {},
   "outputs": [
    {
     "data": {
      "text/html": [
       "<div>\n",
       "<style scoped>\n",
       "    .dataframe tbody tr th:only-of-type {\n",
       "        vertical-align: middle;\n",
       "    }\n",
       "\n",
       "    .dataframe tbody tr th {\n",
       "        vertical-align: top;\n",
       "    }\n",
       "\n",
       "    .dataframe thead th {\n",
       "        text-align: right;\n",
       "    }\n",
       "</style>\n",
       "<table border=\"1\" class=\"dataframe\">\n",
       "  <thead>\n",
       "    <tr style=\"text-align: right;\">\n",
       "      <th></th>\n",
       "      <th>cow-testis-neonat1-linear</th>\n",
       "      <th>cow-testis-neonat2-linear</th>\n",
       "      <th>cow-testis-neonat3-linear</th>\n",
       "    </tr>\n",
       "    <tr>\n",
       "      <th>junction</th>\n",
       "      <th></th>\n",
       "      <th></th>\n",
       "      <th></th>\n",
       "    </tr>\n",
       "  </thead>\n",
       "  <tbody>\n",
       "    <tr>\n",
       "      <th>10:1000040:-:a</th>\n",
       "      <td>88.0</td>\n",
       "      <td>141.0</td>\n",
       "      <td>139.0</td>\n",
       "    </tr>\n",
       "    <tr>\n",
       "      <th>10:100119603:+:d</th>\n",
       "      <td>68.0</td>\n",
       "      <td>112.0</td>\n",
       "      <td>88.0</td>\n",
       "    </tr>\n",
       "    <tr>\n",
       "      <th>10:100125353:+:a</th>\n",
       "      <td>68.0</td>\n",
       "      <td>112.0</td>\n",
       "      <td>88.0</td>\n",
       "    </tr>\n",
       "    <tr>\n",
       "      <th>10:100125429:+:d</th>\n",
       "      <td>98.0</td>\n",
       "      <td>121.0</td>\n",
       "      <td>127.0</td>\n",
       "    </tr>\n",
       "    <tr>\n",
       "      <th>10:100127500:+:a</th>\n",
       "      <td>98.0</td>\n",
       "      <td>109.0</td>\n",
       "      <td>127.0</td>\n",
       "    </tr>\n",
       "  </tbody>\n",
       "</table>\n",
       "</div>"
      ],
      "text/plain": [
       "                  cow-testis-neonat1-linear  cow-testis-neonat2-linear  \\\n",
       "junction                                                                 \n",
       "10:1000040:-:a                         88.0                      141.0   \n",
       "10:100119603:+:d                       68.0                      112.0   \n",
       "10:100125353:+:a                       68.0                      112.0   \n",
       "10:100125429:+:d                       98.0                      121.0   \n",
       "10:100127500:+:a                       98.0                      109.0   \n",
       "\n",
       "                  cow-testis-neonat3-linear  \n",
       "junction                                     \n",
       "10:1000040:-:a                        139.0  \n",
       "10:100119603:+:d                       88.0  \n",
       "10:100125353:+:a                       88.0  \n",
       "10:100125429:+:d                      127.0  \n",
       "10:100127500:+:a                      127.0  "
      ]
     },
     "execution_count": 7,
     "metadata": {},
     "output_type": "execute_result"
    }
   ],
   "source": [
    "df_full.head()"
   ]
  },
  {
   "cell_type": "code",
   "execution_count": 8,
   "metadata": {},
   "outputs": [],
   "source": [
    "df_full.to_csv(\"forwardcounts_cow_testis_neonat.tsv\", sep=\"\\t\", index=True)"
   ]
  },
  {
   "cell_type": "code",
   "execution_count": null,
   "metadata": {},
   "outputs": [],
   "source": []
  }
 ],
 "metadata": {
  "kernelspec": {
   "display_name": "Python 3",
   "language": "python",
   "name": "python3"
  },
  "language_info": {
   "codemirror_mode": {
    "name": "ipython",
    "version": 3
   },
   "file_extension": ".py",
   "mimetype": "text/x-python",
   "name": "python",
   "nbconvert_exporter": "python",
   "pygments_lexer": "ipython3",
   "version": "3.6.9"
  }
 },
 "nbformat": 4,
 "nbformat_minor": 2
}
