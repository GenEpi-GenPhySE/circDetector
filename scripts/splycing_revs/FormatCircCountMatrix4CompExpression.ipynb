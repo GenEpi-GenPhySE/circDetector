{
 "cells": [
  {
   "cell_type": "code",
   "execution_count": 1,
   "metadata": {},
   "outputs": [],
   "source": [
    "from collections import defaultdict\n",
    "import sys\n",
    "import os\n",
    "import pandas as pd\n",
    "# Add directory above current directory to path horrible but working\n",
    "import sys; sys.path.insert(0, '..')\n",
    "import circRNA"
   ]
  },
  {
   "cell_type": "code",
   "execution_count": 2,
   "metadata": {},
   "outputs": [],
   "source": [
    "def eprint(*args, **kwargs):\n",
    "    print(*args,  file=sys.stderr, **kwargs)\n",
    "\n",
    "    \n",
    "def junctionkeys(circ):\n",
    "    if circ.strand == \"+\":\n",
    "        key_donor = \"%s:%d:%s:d\" % (circ.chrom, circ.end+1, circ.strand)\n",
    "        key_acceptor = \"%s:%d:%s:a\" % (circ.chrom, circ.start-1, circ.strand)\n",
    "    else:\n",
    "        key_donor = \"%s:%d:%s:d\" % (circ.chrom, circ.start-1, circ.strand)\n",
    "        key_acceptor = \"%s:%d:%s:a\" % (circ.chrom, circ.end+1, circ.strand)\n",
    "    return key_donor, key_acceptor\n",
    "\n",
    "    \n",
    "def read_circrnas(sample, circrna_bed, nccr_cutoff=5):\n",
    "    crnas = circRNA.read_annotation(circrna_bed, fmt=\"bed\")\n",
    "    selected = (circ for circ in crnas if circ.nccr > nccr_cutoff)\n",
    "    circ_rnas_exp = []\n",
    "    for circ in selected:\n",
    "        if int(circ.nb_ccr) > nccr_cutoff:\n",
    "            key_donor, key_acceptor = junctionkeys(circ)\n",
    "            circ_rnas_exp.append([key_donor, circ.nccr])\n",
    "            circ_rnas_exp.append([key_acceptor, circ.nccr ])\n",
    "    # Je nomme sample la colonne avec le nb_ccr pour préparer la réunion de tous les individus au sein d'un même fichier\n",
    "    return pd.DataFrame(circ_rnas_exp, columns=['junction',sample+\"-circ\"]).set_index('junction')"
   ]
  },
  {
   "cell_type": "code",
   "execution_count": 3,
   "metadata": {},
   "outputs": [
    {
     "name": "stderr",
     "output_type": "stream",
     "text": [
      "reading cirrnas for cow-testis-neonat3\n",
      "reading cirrnas for cow-testis-neonat2\n",
      "reading cirrnas for cow-testis-neonat1\n"
     ]
    }
   ],
   "source": [
    "LOCALDIR = \"/home/tfaraut/mnt/genologin/dynawork/CircRNA/\"\n",
    "result_dir = LOCALDIR + \"circRNA/results\"\n",
    "\n",
    "samples_unit = pd.read_csv(\"samples_cow_testis_neonat.tsv\", sep='\\t', dtype=str)\n",
    "samples = list(set(samples_unit['sample']))\n",
    "\n",
    "circrnas = []\n",
    "for sample in samples:\n",
    "    eprint(\"reading cirrnas for %s\" % sample)\n",
    "    circrna_bed = os.path.join(result_dir, sample, \"circrnas.bed\")\n",
    "    circrnas.append(read_circrnas(sample, circrna_bed, nccr_cutoff=5))"
   ]
  },
  {
   "cell_type": "code",
   "execution_count": 4,
   "metadata": {},
   "outputs": [],
   "source": [
    "# Join all the dataframes (one per individual) \n",
    "# using key : chr:start-end:strand:t where t is a or d (acceptor or donnor)\n",
    "df = circrnas[0].join(circrnas[1:]).fillna(0)\n",
    "# Selecting rows that have a minimum of 5 ccr for all individuals\n",
    "df = df[df.min(axis=1)>5]"
   ]
  },
  {
   "cell_type": "code",
   "execution_count": 5,
   "metadata": {},
   "outputs": [
    {
     "data": {
      "text/html": [
       "<div>\n",
       "<style scoped>\n",
       "    .dataframe tbody tr th:only-of-type {\n",
       "        vertical-align: middle;\n",
       "    }\n",
       "\n",
       "    .dataframe tbody tr th {\n",
       "        vertical-align: top;\n",
       "    }\n",
       "\n",
       "    .dataframe thead th {\n",
       "        text-align: right;\n",
       "    }\n",
       "</style>\n",
       "<table border=\"1\" class=\"dataframe\">\n",
       "  <thead>\n",
       "    <tr style=\"text-align: right;\">\n",
       "      <th></th>\n",
       "      <th>cow-testis-neonat3-circ</th>\n",
       "      <th>cow-testis-neonat2-circ</th>\n",
       "      <th>cow-testis-neonat1-circ</th>\n",
       "    </tr>\n",
       "    <tr>\n",
       "      <th>junction</th>\n",
       "      <th></th>\n",
       "      <th></th>\n",
       "      <th></th>\n",
       "    </tr>\n",
       "  </thead>\n",
       "  <tbody>\n",
       "    <tr>\n",
       "      <th>10:100125352:+:a</th>\n",
       "      <td>15</td>\n",
       "      <td>16.0</td>\n",
       "      <td>11.0</td>\n",
       "    </tr>\n",
       "    <tr>\n",
       "      <th>10:100133931:+:a</th>\n",
       "      <td>19</td>\n",
       "      <td>14.0</td>\n",
       "      <td>36.0</td>\n",
       "    </tr>\n",
       "    <tr>\n",
       "      <th>10:100134061:+:d</th>\n",
       "      <td>15</td>\n",
       "      <td>16.0</td>\n",
       "      <td>11.0</td>\n",
       "    </tr>\n",
       "    <tr>\n",
       "      <th>10:100149043:+:d</th>\n",
       "      <td>19</td>\n",
       "      <td>14.0</td>\n",
       "      <td>36.0</td>\n",
       "    </tr>\n",
       "    <tr>\n",
       "      <th>10:100149043:+:d</th>\n",
       "      <td>8</td>\n",
       "      <td>14.0</td>\n",
       "      <td>36.0</td>\n",
       "    </tr>\n",
       "  </tbody>\n",
       "</table>\n",
       "</div>"
      ],
      "text/plain": [
       "                  cow-testis-neonat3-circ  cow-testis-neonat2-circ  \\\n",
       "junction                                                             \n",
       "10:100125352:+:a                       15                     16.0   \n",
       "10:100133931:+:a                       19                     14.0   \n",
       "10:100134061:+:d                       15                     16.0   \n",
       "10:100149043:+:d                       19                     14.0   \n",
       "10:100149043:+:d                        8                     14.0   \n",
       "\n",
       "                  cow-testis-neonat1-circ  \n",
       "junction                                   \n",
       "10:100125352:+:a                     11.0  \n",
       "10:100133931:+:a                     36.0  \n",
       "10:100134061:+:d                     11.0  \n",
       "10:100149043:+:d                     36.0  \n",
       "10:100149043:+:d                     36.0  "
      ]
     },
     "execution_count": 5,
     "metadata": {},
     "output_type": "execute_result"
    }
   ],
   "source": [
    "df.head()"
   ]
  },
  {
   "cell_type": "code",
   "execution_count": 6,
   "metadata": {},
   "outputs": [],
   "source": [
    "df.to_csv(\"cirRNAcounts_singlejunction_cow_testis.tsv\", sep=\"\\t\", index=True)"
   ]
  },
  {
   "cell_type": "code",
   "execution_count": null,
   "metadata": {},
   "outputs": [],
   "source": []
  },
  {
   "cell_type": "code",
   "execution_count": null,
   "metadata": {},
   "outputs": [],
   "source": []
  }
 ],
 "metadata": {
  "kernelspec": {
   "display_name": "Python 3",
   "language": "python",
   "name": "python3"
  },
  "language_info": {
   "codemirror_mode": {
    "name": "ipython",
    "version": 3
   },
   "file_extension": ".py",
   "mimetype": "text/x-python",
   "name": "python",
   "nbconvert_exporter": "python",
   "pygments_lexer": "ipython3",
   "version": "3.6.9"
  }
 },
 "nbformat": 4,
 "nbformat_minor": 2
}
