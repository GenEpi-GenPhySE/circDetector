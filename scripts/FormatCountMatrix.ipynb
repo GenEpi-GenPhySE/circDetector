{
 "cells": [
  {
   "cell_type": "code",
   "execution_count": 1,
   "metadata": {},
   "outputs": [],
   "source": [
    "from collections import defaultdict\n",
    "import sys\n",
    "import os\n",
    "import pandas as pd\n",
    "import circRNA as circ"
   ]
  },
  {
   "cell_type": "code",
   "execution_count": 2,
   "metadata": {},
   "outputs": [],
   "source": [
    "def eprint(*args, **kwargs):\n",
    "    print(*args,  file=sys.stderr, **kwargs)\n",
    "\n",
    "def read_circrnas(sample, circrna_bed, nccr_cutoff=10):\n",
    "    crnas = circ.read_annotation(circrna_bed, fmt=\"bed\")\n",
    "    selected = (circ for circ in crnas if circ.nccr > nccr_cutoff)\n",
    "    circ_rnas_exp = [circ.str4diffexp().split(\"\\t\") for circ in selected]\n",
    "    # Je nomme sample la colonne avec le nb_ccr pour préparer la réunion de tous les individus au sine d'un même fichier\n",
    "    return pd.DataFrame(circ_rnas_exp, columns=['gene',sample]).set_index('gene')"
   ]
  },
  {
   "cell_type": "code",
   "execution_count": 3,
   "metadata": {},
   "outputs": [
    {
     "name": "stderr",
     "output_type": "stream",
     "text": [
      "reading cirrnas for cow-testis-adult1\n",
      "reading cirrnas for cow-testis-neonat2\n",
      "reading cirrnas for cow-liver-B004\n",
      "reading cirrnas for cow-liver-B008\n",
      "reading cirrnas for cow-liver-B005\n",
      "reading cirrnas for cow-testis-adult3\n",
      "reading cirrnas for cow-testis-neonat3\n",
      "reading cirrnas for cow-testis-adult2\n",
      "reading cirrnas for cow-testis-neonat1\n"
     ]
    }
   ],
   "source": [
    "result_dir=\"../results\"\n",
    "samples_unit = pd.read_csv(\"../samples12.tsv\", sep='\\t', dtype=str)\n",
    "samples = list(set(samples_unit['sample']))\n",
    "\n",
    "circrnas = []\n",
    "for sample in samples:\n",
    "    eprint(\"reading cirrnas for %s\" % sample)\n",
    "    circrna_bed = os.path.join(result_dir, sample, \"circrnas.bed\")\n",
    "    circrnas.append(read_circrnas(sample, circrna_bed, nccr_cutoff=5))"
   ]
  },
  {
   "cell_type": "code",
   "execution_count": 4,
   "metadata": {},
   "outputs": [],
   "source": [
    "# Ici je réunis tous les dataframe (un par individu) avec comme clef précisément : chr:start-end:strand \n",
    "df = circrnas[0].join(circrnas[1:]).fillna(0)"
   ]
  },
  {
   "cell_type": "code",
   "execution_count": 5,
   "metadata": {},
   "outputs": [],
   "source": [
    "df.to_csv(\"cirRNAcounts.tsv\", sep=\"\\t\", index=True)"
   ]
  }
 ],
 "metadata": {
  "kernelspec": {
   "display_name": "Python 3",
   "language": "python",
   "name": "python3"
  },
  "language_info": {
   "codemirror_mode": {
    "name": "ipython",
    "version": 3
   },
   "file_extension": ".py",
   "mimetype": "text/x-python",
   "name": "python",
   "nbconvert_exporter": "python",
   "pygments_lexer": "ipython3",
   "version": "3.6.9"
  }
 },
 "nbformat": 4,
 "nbformat_minor": 2
}
