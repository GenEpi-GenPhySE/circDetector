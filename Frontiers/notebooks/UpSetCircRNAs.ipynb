{
 "cells": [
  {
   "cell_type": "code",
   "execution_count": 1,
   "metadata": {},
   "outputs": [],
   "source": [
    "import pandas as pd\n",
    "from matplotlib import pyplot as plt\n",
    "from upsetplot import UpSet, plot, from_contents\n",
    "from collections import defaultdict"
   ]
  },
  {
   "cell_type": "code",
   "execution_count": 2,
   "metadata": {},
   "outputs": [],
   "source": [
    "from upsetplot import from_contents\n",
    "contents = {'cat1': ['a', 'b', 'c'],\n",
    "            'cat2': ['b', 'd'],\n",
    "            'cat3': ['e']}\n",
    "example = from_contents(contents) # doctest: +NORMALIZE_WHITESPACE"
   ]
  },
  {
   "cell_type": "code",
   "execution_count": 3,
   "metadata": {},
   "outputs": [
    {
     "data": {
      "text/plain": [
       "{'matrix': <AxesSubplot:>,\n",
       " 'shading': <AxesSubplot:>,\n",
       " 'totals': <AxesSubplot:>,\n",
       " 'intersections': <AxesSubplot:ylabel='Intersection size'>}"
      ]
     },
     "execution_count": 3,
     "metadata": {},
     "output_type": "execute_result"
    },
    {
     "data": {
      "image/png": "[encoded data removed]",
      "text/plain": [
       "<Figure size 95.875x288 with 4 Axes>"
      ]
     },
     "metadata": {
      "needs_background": "light"
     },
     "output_type": "display_data"
    }
   ],
   "source": [
    "plot(example)"
   ]
  },
  {
   "cell_type": "code",
   "execution_count": 4,
   "metadata": {},
   "outputs": [],
   "source": [
    "df = pd.read_csv(\"../counts/2ind4CCR/bos_taurus_bsj_counts.tsv\", sep=\"\\t\").drop(columns=['gene_id', 'circ_type']).set_index('bsj')"
   ]
  },
  {
   "cell_type": "code",
   "execution_count": 5,
   "metadata": {},
   "outputs": [
    {
     "data": {
      "text/html": [
       "<div>\n",
       "<style scoped>\n",
       "    .dataframe tbody tr th:only-of-type {\n",
       "        vertical-align: middle;\n",
       "    }\n",
       "\n",
       "    .dataframe tbody tr th {\n",
       "        vertical-align: top;\n",
       "    }\n",
       "\n",
       "    .dataframe thead th {\n",
       "        text-align: right;\n",
       "    }\n",
       "</style>\n",
       "<table border=\"1\" class=\"dataframe\">\n",
       "  <thead>\n",
       "    <tr style=\"text-align: right;\">\n",
       "      <th></th>\n",
       "      <th>bta_liver_1</th>\n",
       "      <th>bta_liver_10</th>\n",
       "      <th>bta_liver_11</th>\n",
       "      <th>bta_liver_12</th>\n",
       "      <th>bta_liver_13</th>\n",
       "      <th>bta_liver_14</th>\n",
       "      <th>bta_liver_15</th>\n",
       "      <th>bta_liver_2</th>\n",
       "      <th>bta_liver_3</th>\n",
       "      <th>bta_liver_4</th>\n",
       "      <th>...</th>\n",
       "      <th>bta_muscle_6</th>\n",
       "      <th>bta_muscle_7</th>\n",
       "      <th>bta_muscle_8</th>\n",
       "      <th>bta_muscle_9</th>\n",
       "      <th>bta_testis_1</th>\n",
       "      <th>bta_testis_2</th>\n",
       "      <th>bta_testis_3</th>\n",
       "      <th>bta_testis_4</th>\n",
       "      <th>bta_testis_5</th>\n",
       "      <th>bta_testis_6</th>\n",
       "    </tr>\n",
       "    <tr>\n",
       "      <th>bsj</th>\n",
       "      <th></th>\n",
       "      <th></th>\n",
       "      <th></th>\n",
       "      <th></th>\n",
       "      <th></th>\n",
       "      <th></th>\n",
       "      <th></th>\n",
       "      <th></th>\n",
       "      <th></th>\n",
       "      <th></th>\n",
       "      <th></th>\n",
       "      <th></th>\n",
       "      <th></th>\n",
       "      <th></th>\n",
       "      <th></th>\n",
       "      <th></th>\n",
       "      <th></th>\n",
       "      <th></th>\n",
       "      <th></th>\n",
       "      <th></th>\n",
       "      <th></th>\n",
       "    </tr>\n",
       "  </thead>\n",
       "  <tbody>\n",
       "    <tr>\n",
       "      <th>8:53760250|53780903</th>\n",
       "      <td>3.0</td>\n",
       "      <td>1.0</td>\n",
       "      <td>2.0</td>\n",
       "      <td>0.0</td>\n",
       "      <td>0.0</td>\n",
       "      <td>0.0</td>\n",
       "      <td>0.0</td>\n",
       "      <td>5.0</td>\n",
       "      <td>0.0</td>\n",
       "      <td>3.0</td>\n",
       "      <td>...</td>\n",
       "      <td>0.0</td>\n",
       "      <td>1.0</td>\n",
       "      <td>0.0</td>\n",
       "      <td>0.0</td>\n",
       "      <td>10.0</td>\n",
       "      <td>7.0</td>\n",
       "      <td>15.0</td>\n",
       "      <td>7.0</td>\n",
       "      <td>3.0</td>\n",
       "      <td>4.0</td>\n",
       "    </tr>\n",
       "    <tr>\n",
       "      <th>6:88488565|88500819</th>\n",
       "      <td>2.0</td>\n",
       "      <td>4.0</td>\n",
       "      <td>3.0</td>\n",
       "      <td>2.0</td>\n",
       "      <td>0.0</td>\n",
       "      <td>3.0</td>\n",
       "      <td>0.0</td>\n",
       "      <td>0.0</td>\n",
       "      <td>4.0</td>\n",
       "      <td>5.0</td>\n",
       "      <td>...</td>\n",
       "      <td>0.0</td>\n",
       "      <td>0.0</td>\n",
       "      <td>0.0</td>\n",
       "      <td>0.0</td>\n",
       "      <td>0.0</td>\n",
       "      <td>0.0</td>\n",
       "      <td>0.0</td>\n",
       "      <td>0.0</td>\n",
       "      <td>0.0</td>\n",
       "      <td>0.0</td>\n",
       "    </tr>\n",
       "    <tr>\n",
       "      <th>11:7392326|7392528</th>\n",
       "      <td>0.0</td>\n",
       "      <td>0.0</td>\n",
       "      <td>0.0</td>\n",
       "      <td>0.0</td>\n",
       "      <td>0.0</td>\n",
       "      <td>0.0</td>\n",
       "      <td>0.0</td>\n",
       "      <td>0.0</td>\n",
       "      <td>0.0</td>\n",
       "      <td>0.0</td>\n",
       "      <td>...</td>\n",
       "      <td>12.0</td>\n",
       "      <td>3.0</td>\n",
       "      <td>4.0</td>\n",
       "      <td>8.0</td>\n",
       "      <td>0.0</td>\n",
       "      <td>1.0</td>\n",
       "      <td>2.0</td>\n",
       "      <td>0.0</td>\n",
       "      <td>0.0</td>\n",
       "      <td>0.0</td>\n",
       "    </tr>\n",
       "    <tr>\n",
       "      <th>12:76953695|76967469</th>\n",
       "      <td>36.0</td>\n",
       "      <td>15.0</td>\n",
       "      <td>42.0</td>\n",
       "      <td>40.0</td>\n",
       "      <td>21.0</td>\n",
       "      <td>36.0</td>\n",
       "      <td>18.0</td>\n",
       "      <td>29.0</td>\n",
       "      <td>40.0</td>\n",
       "      <td>79.0</td>\n",
       "      <td>...</td>\n",
       "      <td>4.0</td>\n",
       "      <td>3.0</td>\n",
       "      <td>5.0</td>\n",
       "      <td>1.0</td>\n",
       "      <td>94.0</td>\n",
       "      <td>77.0</td>\n",
       "      <td>89.0</td>\n",
       "      <td>22.0</td>\n",
       "      <td>31.0</td>\n",
       "      <td>22.0</td>\n",
       "    </tr>\n",
       "    <tr>\n",
       "      <th>24:61162997|61187749</th>\n",
       "      <td>10.0</td>\n",
       "      <td>12.0</td>\n",
       "      <td>17.0</td>\n",
       "      <td>10.0</td>\n",
       "      <td>4.0</td>\n",
       "      <td>5.0</td>\n",
       "      <td>12.0</td>\n",
       "      <td>10.0</td>\n",
       "      <td>12.0</td>\n",
       "      <td>22.0</td>\n",
       "      <td>...</td>\n",
       "      <td>3.0</td>\n",
       "      <td>3.0</td>\n",
       "      <td>0.0</td>\n",
       "      <td>1.0</td>\n",
       "      <td>112.0</td>\n",
       "      <td>50.0</td>\n",
       "      <td>97.0</td>\n",
       "      <td>14.0</td>\n",
       "      <td>53.0</td>\n",
       "      <td>31.0</td>\n",
       "    </tr>\n",
       "  </tbody>\n",
       "</table>\n",
       "<p>5 rows × 33 columns</p>\n",
       "</div>"
      ],
      "text/plain": [
       "                      bta_liver_1  bta_liver_10  bta_liver_11  bta_liver_12  \\\n",
       "bsj                                                                           \n",
       "8:53760250|53780903           3.0           1.0           2.0           0.0   \n",
       "6:88488565|88500819           2.0           4.0           3.0           2.0   \n",
       "11:7392326|7392528            0.0           0.0           0.0           0.0   \n",
       "12:76953695|76967469         36.0          15.0          42.0          40.0   \n",
       "24:61162997|61187749         10.0          12.0          17.0          10.0   \n",
       "\n",
       "                      bta_liver_13  bta_liver_14  bta_liver_15  bta_liver_2  \\\n",
       "bsj                                                                           \n",
       "8:53760250|53780903            0.0           0.0           0.0          5.0   \n",
       "6:88488565|88500819            0.0           3.0           0.0          0.0   \n",
       "11:7392326|7392528             0.0           0.0           0.0          0.0   \n",
       "12:76953695|76967469          21.0          36.0          18.0         29.0   \n",
       "24:61162997|61187749           4.0           5.0          12.0         10.0   \n",
       "\n",
       "                      bta_liver_3  bta_liver_4  ...  bta_muscle_6  \\\n",
       "bsj                                             ...                 \n",
       "8:53760250|53780903           0.0          3.0  ...           0.0   \n",
       "6:88488565|88500819           4.0          5.0  ...           0.0   \n",
       "11:7392326|7392528            0.0          0.0  ...          12.0   \n",
       "12:76953695|76967469         40.0         79.0  ...           4.0   \n",
       "24:61162997|61187749         12.0         22.0  ...           3.0   \n",
       "\n",
       "                      bta_muscle_7  bta_muscle_8  bta_muscle_9  bta_testis_1  \\\n",
       "bsj                                                                            \n",
       "8:53760250|53780903            1.0           0.0           0.0          10.0   \n",
       "6:88488565|88500819            0.0           0.0           0.0           0.0   \n",
       "11:7392326|7392528             3.0           4.0           8.0           0.0   \n",
       "12:76953695|76967469           3.0           5.0           1.0          94.0   \n",
       "24:61162997|61187749           3.0           0.0           1.0         112.0   \n",
       "\n",
       "                      bta_testis_2  bta_testis_3  bta_testis_4  bta_testis_5  \\\n",
       "bsj                                                                            \n",
       "8:53760250|53780903            7.0          15.0           7.0           3.0   \n",
       "6:88488565|88500819            0.0           0.0           0.0           0.0   \n",
       "11:7392326|7392528             1.0           2.0           0.0           0.0   \n",
       "12:76953695|76967469          77.0          89.0          22.0          31.0   \n",
       "24:61162997|61187749          50.0          97.0          14.0          53.0   \n",
       "\n",
       "                      bta_testis_6  \n",
       "bsj                                 \n",
       "8:53760250|53780903            4.0  \n",
       "6:88488565|88500819            0.0  \n",
       "11:7392326|7392528             0.0  \n",
       "12:76953695|76967469          22.0  \n",
       "24:61162997|61187749          31.0  \n",
       "\n",
       "[5 rows x 33 columns]"
      ]
     },
     "execution_count": 5,
     "metadata": {},
     "output_type": "execute_result"
    }
   ],
   "source": [
    "df.head()"
   ]
  },
  {
   "cell_type": "code",
   "execution_count": 6,
   "metadata": {},
   "outputs": [],
   "source": [
    "liver = (df.filter(regex=\"liver\").max(axis=1)>10)\n",
    "muscle = (df.filter(regex=\"muscle\").max(axis=1)>10)\n",
    "testis = (df.filter(regex=\"testis\").max(axis=1)>10)"
   ]
  },
  {
   "cell_type": "code",
   "execution_count": 7,
   "metadata": {},
   "outputs": [],
   "source": [
    "subset_df = df[liver | muscle][[\"bta_liver_2\", \"bta_liver_3\", \"bta_muscle_3\", \"bta_muscle_6\"]]"
   ]
  },
  {
   "cell_type": "code",
   "execution_count": 8,
   "metadata": {},
   "outputs": [],
   "source": [
    "contents = defaultdict(list)\n",
    "for sample in subset_df.columns:\n",
    "    contents[sample] = [index for index, value in subset_df[sample].iteritems() if value>4]\n",
    "upset_values = from_contents(contents)  "
   ]
  },
  {
   "cell_type": "code",
   "execution_count": 9,
   "metadata": {},
   "outputs": [
    {
     "data": {
      "image/png": "[encoded data removed]",
      "text/plain": [
       "<Figure size 270.375x320 with 4 Axes>"
      ]
     },
     "metadata": {
      "needs_background": "light"
     },
     "output_type": "display_data"
    }
   ],
   "source": [
    "upset = plot(upset_values, sort_by=\"cardinality\")"
   ]
  },
  {
   "cell_type": "code",
   "execution_count": 10,
   "metadata": {},
   "outputs": [],
   "source": [
    "subset_df = df[liver | testis][[\"bta_liver_1\", \"bta_liver_2\", \"bta_testis_1\", \"bta_testis_2\"]]"
   ]
  },
  {
   "cell_type": "code",
   "execution_count": 11,
   "metadata": {},
   "outputs": [],
   "source": [
    "contents = defaultdict(list)\n",
    "for sample in subset_df.columns:\n",
    "    contents[sample] = [index for index, value in subset_df[sample].iteritems() if value>4]\n",
    "upset_values = from_contents(contents)  "
   ]
  },
  {
   "cell_type": "code",
   "execution_count": 12,
   "metadata": {
    "scrolled": true
   },
   "outputs": [
    {
     "data": {
      "image/png": "[encoded data removed]",
      "text/plain": [
       "<Figure size 357.875x320 with 4 Axes>"
      ]
     },
     "metadata": {
      "needs_background": "light"
     },
     "output_type": "display_data"
    }
   ],
   "source": [
    "upset = plot(upset_values, sort_by=\"cardinality\")"
   ]
  },
  {
   "cell_type": "code",
   "execution_count": 13,
   "metadata": {},
   "outputs": [],
   "source": [
    "subset_df = df[liver | testis | muscle][[\"bta_muscle_3\", \"bta_muscle_6\", \"bta_liver_1\", \"bta_liver_2\", \"bta_testis_1\", \"bta_testis_2\"]]"
   ]
  },
  {
   "cell_type": "code",
   "execution_count": 14,
   "metadata": {},
   "outputs": [],
   "source": [
    "contents = defaultdict(list)\n",
    "for sample in subset_df.columns:\n",
    "    contents[sample] = [index for index, value in subset_df[sample].iteritems() if value>4]\n",
    "upset_values = from_contents(contents)  "
   ]
  },
  {
   "cell_type": "code",
   "execution_count": 15,
   "metadata": {
    "scrolled": true
   },
   "outputs": [
    {
     "data": {
      "image/png": "[encoded data removed]",
      "text/plain": [
       "<Figure size 398.375x384 with 4 Axes>"
      ]
     },
     "metadata": {
      "needs_background": "light"
     },
     "output_type": "display_data"
    }
   ],
   "source": [
    "upset = plot(upset_values, sort_by=\"cardinality\")"
   ]
  },
  {
   "cell_type": "code",
   "execution_count": 16,
   "metadata": {},
   "outputs": [],
   "source": [
    "df = pd.read_csv(\"../counts/2ind4CCR/sus_scrofa_bsj_counts.tsv\", sep=\"\\t\").drop(columns=['gene_id', 'circ_type']).set_index('bsj')"
   ]
  },
  {
   "cell_type": "code",
   "execution_count": 17,
   "metadata": {},
   "outputs": [
    {
     "data": {
      "text/html": [
       "<div>\n",
       "<style scoped>\n",
       "    .dataframe tbody tr th:only-of-type {\n",
       "        vertical-align: middle;\n",
       "    }\n",
       "\n",
       "    .dataframe tbody tr th {\n",
       "        vertical-align: top;\n",
       "    }\n",
       "\n",
       "    .dataframe thead th {\n",
       "        text-align: right;\n",
       "    }\n",
       "</style>\n",
       "<table border=\"1\" class=\"dataframe\">\n",
       "  <thead>\n",
       "    <tr style=\"text-align: right;\">\n",
       "      <th></th>\n",
       "      <th>ssc_liver_1</th>\n",
       "      <th>ssc_liver_10</th>\n",
       "      <th>ssc_liver_2</th>\n",
       "      <th>ssc_liver_3</th>\n",
       "      <th>ssc_liver_4</th>\n",
       "      <th>ssc_liver_5</th>\n",
       "      <th>ssc_liver_6</th>\n",
       "      <th>ssc_liver_7</th>\n",
       "      <th>ssc_liver_8</th>\n",
       "      <th>ssc_liver_9</th>\n",
       "      <th>...</th>\n",
       "      <th>ssc_testis_1</th>\n",
       "      <th>ssc_testis_10</th>\n",
       "      <th>ssc_testis_2</th>\n",
       "      <th>ssc_testis_3</th>\n",
       "      <th>ssc_testis_4</th>\n",
       "      <th>ssc_testis_5</th>\n",
       "      <th>ssc_testis_6</th>\n",
       "      <th>ssc_testis_7</th>\n",
       "      <th>ssc_testis_8</th>\n",
       "      <th>ssc_testis_9</th>\n",
       "    </tr>\n",
       "    <tr>\n",
       "      <th>bsj</th>\n",
       "      <th></th>\n",
       "      <th></th>\n",
       "      <th></th>\n",
       "      <th></th>\n",
       "      <th></th>\n",
       "      <th></th>\n",
       "      <th></th>\n",
       "      <th></th>\n",
       "      <th></th>\n",
       "      <th></th>\n",
       "      <th></th>\n",
       "      <th></th>\n",
       "      <th></th>\n",
       "      <th></th>\n",
       "      <th></th>\n",
       "      <th></th>\n",
       "      <th></th>\n",
       "      <th></th>\n",
       "      <th></th>\n",
       "      <th></th>\n",
       "      <th></th>\n",
       "    </tr>\n",
       "  </thead>\n",
       "  <tbody>\n",
       "    <tr>\n",
       "      <th>14:105901068|105911675</th>\n",
       "      <td>4.0</td>\n",
       "      <td>1.0</td>\n",
       "      <td>0.0</td>\n",
       "      <td>0.0</td>\n",
       "      <td>0.0</td>\n",
       "      <td>0.0</td>\n",
       "      <td>0.0</td>\n",
       "      <td>2.0</td>\n",
       "      <td>0.0</td>\n",
       "      <td>0.0</td>\n",
       "      <td>...</td>\n",
       "      <td>8.0</td>\n",
       "      <td>5.0</td>\n",
       "      <td>15.0</td>\n",
       "      <td>9.0</td>\n",
       "      <td>7.0</td>\n",
       "      <td>2.0</td>\n",
       "      <td>3.0</td>\n",
       "      <td>2.0</td>\n",
       "      <td>0.0</td>\n",
       "      <td>0.0</td>\n",
       "    </tr>\n",
       "    <tr>\n",
       "      <th>1:113097707|113102025</th>\n",
       "      <td>218.0</td>\n",
       "      <td>52.0</td>\n",
       "      <td>8.0</td>\n",
       "      <td>132.0</td>\n",
       "      <td>22.0</td>\n",
       "      <td>115.0</td>\n",
       "      <td>76.0</td>\n",
       "      <td>128.0</td>\n",
       "      <td>121.0</td>\n",
       "      <td>63.0</td>\n",
       "      <td>...</td>\n",
       "      <td>505.0</td>\n",
       "      <td>207.0</td>\n",
       "      <td>377.0</td>\n",
       "      <td>241.0</td>\n",
       "      <td>222.0</td>\n",
       "      <td>192.0</td>\n",
       "      <td>300.0</td>\n",
       "      <td>253.0</td>\n",
       "      <td>157.0</td>\n",
       "      <td>147.0</td>\n",
       "    </tr>\n",
       "    <tr>\n",
       "      <th>2:85507179|85529597</th>\n",
       "      <td>3.0</td>\n",
       "      <td>0.0</td>\n",
       "      <td>1.0</td>\n",
       "      <td>0.0</td>\n",
       "      <td>0.0</td>\n",
       "      <td>1.0</td>\n",
       "      <td>0.0</td>\n",
       "      <td>5.0</td>\n",
       "      <td>1.0</td>\n",
       "      <td>0.0</td>\n",
       "      <td>...</td>\n",
       "      <td>3.0</td>\n",
       "      <td>4.0</td>\n",
       "      <td>0.0</td>\n",
       "      <td>1.0</td>\n",
       "      <td>0.0</td>\n",
       "      <td>0.0</td>\n",
       "      <td>0.0</td>\n",
       "      <td>1.0</td>\n",
       "      <td>0.0</td>\n",
       "      <td>1.0</td>\n",
       "    </tr>\n",
       "    <tr>\n",
       "      <th>10:15061269|15063364</th>\n",
       "      <td>0.0</td>\n",
       "      <td>0.0</td>\n",
       "      <td>0.0</td>\n",
       "      <td>0.0</td>\n",
       "      <td>0.0</td>\n",
       "      <td>0.0</td>\n",
       "      <td>0.0</td>\n",
       "      <td>0.0</td>\n",
       "      <td>0.0</td>\n",
       "      <td>0.0</td>\n",
       "      <td>...</td>\n",
       "      <td>6.0</td>\n",
       "      <td>0.0</td>\n",
       "      <td>1.0</td>\n",
       "      <td>0.0</td>\n",
       "      <td>3.0</td>\n",
       "      <td>0.0</td>\n",
       "      <td>0.0</td>\n",
       "      <td>0.0</td>\n",
       "      <td>0.0</td>\n",
       "      <td>4.0</td>\n",
       "    </tr>\n",
       "    <tr>\n",
       "      <th>8:37826042|37847031</th>\n",
       "      <td>0.0</td>\n",
       "      <td>0.0</td>\n",
       "      <td>0.0</td>\n",
       "      <td>0.0</td>\n",
       "      <td>0.0</td>\n",
       "      <td>0.0</td>\n",
       "      <td>0.0</td>\n",
       "      <td>0.0</td>\n",
       "      <td>0.0</td>\n",
       "      <td>0.0</td>\n",
       "      <td>...</td>\n",
       "      <td>17.0</td>\n",
       "      <td>0.0</td>\n",
       "      <td>1.0</td>\n",
       "      <td>3.0</td>\n",
       "      <td>5.0</td>\n",
       "      <td>1.0</td>\n",
       "      <td>0.0</td>\n",
       "      <td>3.0</td>\n",
       "      <td>0.0</td>\n",
       "      <td>0.0</td>\n",
       "    </tr>\n",
       "  </tbody>\n",
       "</table>\n",
       "<p>5 rows × 24 columns</p>\n",
       "</div>"
      ],
      "text/plain": [
       "                        ssc_liver_1  ssc_liver_10  ssc_liver_2  ssc_liver_3  \\\n",
       "bsj                                                                           \n",
       "14:105901068|105911675          4.0           1.0          0.0          0.0   \n",
       "1:113097707|113102025         218.0          52.0          8.0        132.0   \n",
       "2:85507179|85529597             3.0           0.0          1.0          0.0   \n",
       "10:15061269|15063364            0.0           0.0          0.0          0.0   \n",
       "8:37826042|37847031             0.0           0.0          0.0          0.0   \n",
       "\n",
       "                        ssc_liver_4  ssc_liver_5  ssc_liver_6  ssc_liver_7  \\\n",
       "bsj                                                                          \n",
       "14:105901068|105911675          0.0          0.0          0.0          2.0   \n",
       "1:113097707|113102025          22.0        115.0         76.0        128.0   \n",
       "2:85507179|85529597             0.0          1.0          0.0          5.0   \n",
       "10:15061269|15063364            0.0          0.0          0.0          0.0   \n",
       "8:37826042|37847031             0.0          0.0          0.0          0.0   \n",
       "\n",
       "                        ssc_liver_8  ssc_liver_9  ...  ssc_testis_1  \\\n",
       "bsj                                               ...                 \n",
       "14:105901068|105911675          0.0          0.0  ...           8.0   \n",
       "1:113097707|113102025         121.0         63.0  ...         505.0   \n",
       "2:85507179|85529597             1.0          0.0  ...           3.0   \n",
       "10:15061269|15063364            0.0          0.0  ...           6.0   \n",
       "8:37826042|37847031             0.0          0.0  ...          17.0   \n",
       "\n",
       "                        ssc_testis_10  ssc_testis_2  ssc_testis_3  \\\n",
       "bsj                                                                 \n",
       "14:105901068|105911675            5.0          15.0           9.0   \n",
       "1:113097707|113102025           207.0         377.0         241.0   \n",
       "2:85507179|85529597               4.0           0.0           1.0   \n",
       "10:15061269|15063364              0.0           1.0           0.0   \n",
       "8:37826042|37847031               0.0           1.0           3.0   \n",
       "\n",
       "                        ssc_testis_4  ssc_testis_5  ssc_testis_6  \\\n",
       "bsj                                                                \n",
       "14:105901068|105911675           7.0           2.0           3.0   \n",
       "1:113097707|113102025          222.0         192.0         300.0   \n",
       "2:85507179|85529597              0.0           0.0           0.0   \n",
       "10:15061269|15063364             3.0           0.0           0.0   \n",
       "8:37826042|37847031              5.0           1.0           0.0   \n",
       "\n",
       "                        ssc_testis_7  ssc_testis_8  ssc_testis_9  \n",
       "bsj                                                               \n",
       "14:105901068|105911675           2.0           0.0           0.0  \n",
       "1:113097707|113102025          253.0         157.0         147.0  \n",
       "2:85507179|85529597              1.0           0.0           1.0  \n",
       "10:15061269|15063364             0.0           0.0           4.0  \n",
       "8:37826042|37847031              3.0           0.0           0.0  \n",
       "\n",
       "[5 rows x 24 columns]"
      ]
     },
     "execution_count": 17,
     "metadata": {},
     "output_type": "execute_result"
    }
   ],
   "source": [
    "df.head()"
   ]
  },
  {
   "cell_type": "code",
   "execution_count": 18,
   "metadata": {},
   "outputs": [],
   "source": [
    "liver = (df.filter(regex=\"liver\").max(axis=1)>10)\n",
    "muscle = (df.filter(regex=\"muscle\").max(axis=1)>10)\n",
    "testis = (df.filter(regex=\"testis\").max(axis=1)>10)"
   ]
  },
  {
   "cell_type": "code",
   "execution_count": 19,
   "metadata": {},
   "outputs": [],
   "source": [
    "subset_df = df[liver | muscle][[\"ssc_liver_1\", \"ssc_liver_3\", \"ssc_testis_2\", \"ssc_testis_3\"]]"
   ]
  },
  {
   "cell_type": "code",
   "execution_count": 20,
   "metadata": {},
   "outputs": [],
   "source": [
    "contents = defaultdict(list)\n",
    "for sample in subset_df.columns:\n",
    "    contents[sample] = [index for index, value in subset_df[sample].iteritems() if value>4]\n",
    "upset_values = from_contents(contents)  "
   ]
  },
  {
   "cell_type": "code",
   "execution_count": 21,
   "metadata": {},
   "outputs": [
    {
     "data": {
      "image/png": "[encoded data removed]",
      "text/plain": [
       "<Figure size 421.625x320 with 4 Axes>"
      ]
     },
     "metadata": {
      "needs_background": "light"
     },
     "output_type": "display_data"
    }
   ],
   "source": [
    "upset = plot(upset_values, sort_by=\"cardinality\")"
   ]
  },
  {
   "cell_type": "code",
   "execution_count": 22,
   "metadata": {},
   "outputs": [],
   "source": [
    "subset_df = df[liver | testis][[\"ssc_liver_4\", \"ssc_liver_5\", \"ssc_testis_3\", \"ssc_testis_4\"]]"
   ]
  },
  {
   "cell_type": "code",
   "execution_count": 23,
   "metadata": {},
   "outputs": [],
   "source": [
    "contents = defaultdict(list)\n",
    "for sample in subset_df.columns:\n",
    "    contents[sample] = [index for index, value in subset_df[sample].iteritems() if value>4]\n",
    "upset_values = from_contents(contents)  "
   ]
  },
  {
   "cell_type": "code",
   "execution_count": 24,
   "metadata": {
    "scrolled": true
   },
   "outputs": [
    {
     "data": {
      "image/png": "[encoded data removed]",
      "text/plain": [
       "<Figure size 453.5x320 with 4 Axes>"
      ]
     },
     "metadata": {
      "needs_background": "light"
     },
     "output_type": "display_data"
    }
   ],
   "source": [
    "upset = plot(upset_values, sort_by=\"cardinality\")"
   ]
  },
  {
   "cell_type": "code",
   "execution_count": 25,
   "metadata": {},
   "outputs": [],
   "source": [
    "subset_df = df[liver | testis | muscle][[\"ssc_liver_1\", \"ssc_liver_2\", \"ssc_muscle_3\", \"ssc_muscle_4\", \"ssc_testis_3\", \"ssc_testis_4\"]]"
   ]
  },
  {
   "cell_type": "code",
   "execution_count": 26,
   "metadata": {},
   "outputs": [],
   "source": [
    "contents = defaultdict(list)\n",
    "for sample in subset_df.columns:\n",
    "    contents[sample] = [index for index, value in subset_df[sample].iteritems() if value>4]\n",
    "upset_values = from_contents(contents)  "
   ]
  },
  {
   "cell_type": "code",
   "execution_count": 27,
   "metadata": {
    "scrolled": true
   },
   "outputs": [
    {
     "data": {
      "image/png": "[encoded data removed]",
      "text/plain": [
       "<Figure size 526x384 with 4 Axes>"
      ]
     },
     "metadata": {
      "needs_background": "light"
     },
     "output_type": "display_data"
    }
   ],
   "source": [
    "upset = plot(upset_values, sort_by=\"cardinality\", sort_categories_by=None)"
   ]
  },
  {
   "cell_type": "code",
   "execution_count": null,
   "metadata": {},
   "outputs": [],
   "source": []
  }
 ],
 "metadata": {
  "kernelspec": {
   "display_name": "Python 3",
   "language": "python",
   "name": "python3"
  },
  "language_info": {
   "codemirror_mode": {
    "name": "ipython",
    "version": 3
   },
   "file_extension": ".py",
   "mimetype": "text/x-python",
   "name": "python",
   "nbconvert_exporter": "python",
   "pygments_lexer": "ipython3",
   "version": "3.8.5"
  }
 },
 "nbformat": 4,
 "nbformat_minor": 4
}
