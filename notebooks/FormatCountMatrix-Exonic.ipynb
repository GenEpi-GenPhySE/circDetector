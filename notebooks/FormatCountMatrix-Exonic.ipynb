{
 "cells": [
  {
   "cell_type": "code",
   "execution_count": 1,
   "metadata": {},
   "outputs": [
    {
     "ename": "ModuleNotFoundError",
     "evalue": "No module named 'circRNA'",
     "output_type": "error",
     "traceback": [
      "\u001b[0;31m---------------------------------------------------------------------------\u001b[0m",
      "\u001b[0;31mModuleNotFoundError\u001b[0m                       Traceback (most recent call last)",
      "\u001b[0;32m<ipython-input-1-7c3de4993eb8>\u001b[0m in \u001b[0;36m<module>\u001b[0;34m\u001b[0m\n\u001b[1;32m      3\u001b[0m \u001b[0;32mimport\u001b[0m \u001b[0mos\u001b[0m\u001b[0;34m\u001b[0m\u001b[0;34m\u001b[0m\u001b[0m\n\u001b[1;32m      4\u001b[0m \u001b[0;32mimport\u001b[0m \u001b[0mpandas\u001b[0m \u001b[0;32mas\u001b[0m \u001b[0mpd\u001b[0m\u001b[0;34m\u001b[0m\u001b[0;34m\u001b[0m\u001b[0m\n\u001b[0;32m----> 5\u001b[0;31m \u001b[0;32mimport\u001b[0m \u001b[0mcircRNA\u001b[0m \u001b[0;32mas\u001b[0m \u001b[0mcirc\u001b[0m\u001b[0;34m\u001b[0m\u001b[0;34m\u001b[0m\u001b[0m\n\u001b[0m",
      "\u001b[0;31mModuleNotFoundError\u001b[0m: No module named 'circRNA'"
     ]
    }
   ],
   "source": [
    "from collections import defaultdict\n",
    "import sys\n",
    "import os\n",
    "import pandas as pd"
   ]
  },
  {
   "cell_type": "code",
   "execution_count": 2,
   "metadata": {},
   "outputs": [],
   "source": [
    "def eprint(*args, **kwargs):\n",
    "    print(*args,  file=sys.stderr, **kwargs)\n",
    "\n",
    "def get_id_circ_exonic(sample, circrnas_exonic_file):\n",
    "    df = pd.read_table(circrnas_exonic_file, sep=\"\\t\", index_col=0)\n",
    "    return df.index.to_list()"
   ]
  },
  {
   "cell_type": "code",
   "execution_count": 3,
   "metadata": {},
   "outputs": [
    {
     "name": "stderr",
     "output_type": "stream",
     "text": [
      "reading cirrnas for cow-testis-adult1\n",
      "reading cirrnas for cow-testis-neonat2\n",
      "reading cirrnas for cow-liver-B004\n",
      "reading cirrnas for cow-liver-B008\n",
      "reading cirrnas for cow-liver-B005\n",
      "reading cirrnas for cow-testis-adult3\n",
      "reading cirrnas for cow-testis-neonat3\n",
      "reading cirrnas for cow-testis-adult2\n",
      "reading cirrnas for cow-testis-neonat1\n"
     ]
    }
   ],
   "source": [
    "result_dir=\"../results\"\n",
    "samples_unit = pd.read_csv(\"../samples.tsv\", sep='\\t', dtype=str)\n",
    "samples = list(set(samples_unit['sample']))\n",
    "\n",
    "circrnas_exonic = []\n",
    "circrnas_pig_exonic = []\n",
    "circrnas_cow_exonic = []\n",
    "\n",
    "for sample in samples:\n",
    "    eprint(\"reading cirrnas for %s\" % sample)\n",
    "    circrnas_exonic_file = os.path.join(result_dir, sample, \"true_exonic_comparison.tsv\")\n",
    "    circrnas_exonic.extend(get_id_circ_exonic(sample, circrnas_exonic_file))\n",
    "    circrnas_exonic = list(set(circrnas_exonic))\n",
    "\n",
    "    if \"cow\" in sample.split(\"-\"):\n",
    "        circrnas_cow_exonic.extend(get_id_circ_exonic(sample, circrnas_exonic_file))\n",
    "        circrnas_cow_exonic = list(set(circrnas_cow_exonic))\n",
    "    elif \"pig\" in sample.split(\"-\"):\n",
    "        circrnas_pig_exonic.extend(get_id_circ_exonic(sample, circrnas_exonic_file))\n",
    "        circrnas_pig_exonic = list(set(circrnas_pig_exonic))"
   ]
  },
  {
   "cell_type": "code",
   "execution_count": 1,
   "metadata": {},
   "outputs": [
    {
     "ename": "NameError",
     "evalue": "name 'pd' is not defined",
     "output_type": "error",
     "traceback": [
      "\u001b[0;31m---------------------------------------------------------------------------\u001b[0m",
      "\u001b[0;31mNameError\u001b[0m                                 Traceback (most recent call last)",
      "\u001b[0;32m<ipython-input-1-8013dc6db51c>\u001b[0m in \u001b[0;36m<module>\u001b[0;34m\u001b[0m\n\u001b[1;32m      1\u001b[0m \u001b[0;31m# Ici je réunis tous les dataframe (un par individu) avec comme clef précisément : chr:start-end:strand\u001b[0m\u001b[0;34m\u001b[0m\u001b[0;34m\u001b[0m\u001b[0;34m\u001b[0m\u001b[0m\n\u001b[1;32m      2\u001b[0m \u001b[0;31m#df = circrnas[0].join(circrnas[1:]).fillna(0)\u001b[0m\u001b[0;34m\u001b[0m\u001b[0;34m\u001b[0m\u001b[0;34m\u001b[0m\u001b[0m\n\u001b[0;32m----> 3\u001b[0;31m \u001b[0mdf\u001b[0m \u001b[0;34m=\u001b[0m \u001b[0mpd\u001b[0m\u001b[0;34m.\u001b[0m\u001b[0mconcat\u001b[0m\u001b[0;34m(\u001b[0m\u001b[0mcircrnas\u001b[0m\u001b[0;34m)\u001b[0m\u001b[0;34m.\u001b[0m\u001b[0mfillna\u001b[0m\u001b[0;34m(\u001b[0m\u001b[0;36m0\u001b[0m\u001b[0;34m)\u001b[0m\u001b[0;34m\u001b[0m\u001b[0;34m\u001b[0m\u001b[0m\n\u001b[0m\u001b[1;32m      4\u001b[0m \u001b[0mdf\u001b[0m \u001b[0;34m=\u001b[0m \u001b[0mpd\u001b[0m\u001b[0;34m.\u001b[0m\u001b[0mconcat\u001b[0m\u001b[0;34m(\u001b[0m\u001b[0mcircrnas\u001b[0m\u001b[0;34m)\u001b[0m\u001b[0;34m.\u001b[0m\u001b[0mfillna\u001b[0m\u001b[0;34m(\u001b[0m\u001b[0;36m0\u001b[0m\u001b[0;34m)\u001b[0m\u001b[0;34m\u001b[0m\u001b[0;34m\u001b[0m\u001b[0m\n",
      "\u001b[0;31mNameError\u001b[0m: name 'pd' is not defined"
     ]
    }
   ],
   "source": [
    "df_all_circ_rnas = pd.read_table(\"cirRNAcounts.tsv\", sep=\"\\t\", index_col=0)\n",
    "df_all_pig_circ_rnas = pd.read_table(\"cirRNAcounts_pig.tsv\", sep=\"\\t\", index_col=0)\n",
    "df_all_cow_circ_rnas = pd.read_table(\"cirRNAcounts_cow.tsv\", sep=\"\\t\", index_col=0)"
   ]
  },
  {
   "cell_type": "code",
   "execution_count": null,
   "metadata": {},
   "outputs": [],
   "source": [
    "df_exonic_circ_rnas = df_all_circ_rnas[df_all_circ_rnas.index.isin(circrnas_exonic)]\n",
    "df_exonic_circ_rnas_cow = df_all_cow_circ_rnas[df_all_cow_circ_rnas.index.isin(circrnas_cow_exonic)]\n",
    "df_exonic_circ_rnas_pig = df_all_pig_circ_rnas[df_all_pig_circ_rnas.index.isin(circrnas_pig_exonic)]"
   ]
  },
  {
   "cell_type": "code",
   "execution_count": 5,
   "metadata": {},
   "outputs": [],
   "source": [
    "df_exonic_circ_rnas.to_csv(\"cirRNAcounts_exonic.tsv\", sep=\"\\t\", index=True)\n",
    "df_exonic_circ_rnas_pig.to_csv(\"cirRNAcounts_pig_exonic.tsv\", sep=\"\\t\", index=True)\n",
    "df_exonic_circ_rnas_cow.to_csv(\"cirRNAcounts_cow_exonic.tsv\", sep=\"\\t\", index=True)"
   ]
  }
 ],
 "metadata": {
  "kernelspec": {
   "display_name": "Python 3",
   "language": "python",
   "name": "python3"
  },
  "language_info": {
   "codemirror_mode": {
    "name": "ipython",
    "version": 3
   },
   "file_extension": ".py",
   "mimetype": "text/x-python",
   "name": "python",
   "nbconvert_exporter": "python",
   "pygments_lexer": "ipython3",
   "version": "3.6.9"
  }
 },
 "nbformat": 4,
 "nbformat_minor": 2
}
